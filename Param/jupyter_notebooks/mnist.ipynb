{
 "cells": [
  {
   "cell_type": "code",
   "execution_count": 13,
   "metadata": {},
   "outputs": [
    {
     "data": {
      "text/plain": "'0.10.1+cpu'"
     },
     "execution_count": 13,
     "metadata": {},
     "output_type": "execute_result"
    }
   ],
   "source": [
    "import torchvision\n",
    "torchvision.__version__"
   ]
  },
  {
   "cell_type": "code",
   "execution_count": 14,
   "metadata": {
    "collapsed": false,
    "pycharm": {
     "name": "#%%\n"
    }
   },
   "outputs": [],
   "source": [
    "import torch\n",
    "from torchvision import datasets\n",
    "from torchvision.transforms import ToTensor\n",
    "\n",
    "train_data = datasets.MNIST(\n",
    "root='data',\n",
    "train=True,\n",
    "transform=ToTensor(),\n",
    "download=True,\n",
    ")\n",
    "test_data=datasets.MNIST(\n",
    "root='data',\n",
    "train=False,\n",
    "transform=ToTensor()\n",
    ")"
   ]
  },
  {
   "cell_type": "code",
   "execution_count": 15,
   "metadata": {
    "pycharm": {
     "name": "#%%\n"
    }
   },
   "outputs": [
    {
     "data": {
      "text/plain": "{'train': <torch.utils.data.dataloader.DataLoader at 0x1f1e0d00910>,\n 'test': <torch.utils.data.dataloader.DataLoader at 0x1f1e0d007c0>}"
     },
     "execution_count": 15,
     "metadata": {},
     "output_type": "execute_result"
    }
   ],
   "source": [
    "loaders = {\n",
    "    'train': torch.utils.data.DataLoader(train_data, batch_size=100, shuffle=True, num_workers=1),\n",
    "    'test': torch.utils.data.DataLoader(test_data,batch_size=100, shuffle=True, num_workers=1),\n",
    "}\n",
    "loaders"
   ]
  },
  {
   "cell_type": "code",
   "execution_count": 16,
   "outputs": [],
   "source": [
    "import torch.nn as nn\n",
    "class CNN(nn.Module):\n",
    "    def __init__(self):\n",
    "        super(CNN,self).__init__()\n",
    "\n",
    "        self.conv1 = nn.Sequential(\n",
    "            nn.Conv2d(\n",
    "                in_channels=1,\n",
    "                out_channels=16,\n",
    "                kernel_size=5,\n",
    "                stride=1,\n",
    "                padding=2,\n",
    "            ),\n",
    "            nn.ReLU(),\n",
    "            nn.MaxPool2d(kernel_size=2),\n",
    "        )\n",
    "        self.conv2 = nn.Sequential(\n",
    "            nn.Conv2d(16, 32, 5, 1, 2),\n",
    "            nn.ReLU(),\n",
    "            nn.MaxPool2d(2),\n",
    "        )\n",
    "\n",
    "        self.out = nn.Linear(32 * 7 * 7, 10)\n",
    "    def forward(self, x):\n",
    "        x = self.conv1(x)\n",
    "        x = self.conv2(x)\n",
    "\n",
    "        x = x.view(x.size(0), -1)\n",
    "        output = self.out(x)\n",
    "\n",
    "        return output, x"
   ],
   "metadata": {
    "collapsed": false,
    "pycharm": {
     "name": "#%%\n"
    }
   }
  },
  {
   "cell_type": "code",
   "execution_count": 17,
   "outputs": [],
   "source": [
    "cnn=CNN()\n",
    "loss_func = nn.CrossEntropyLoss()"
   ],
   "metadata": {
    "collapsed": false,
    "pycharm": {
     "name": "#%%\n"
    }
   }
  },
  {
   "cell_type": "code",
   "execution_count": 18,
   "outputs": [
    {
     "data": {
      "text/plain": "Adam (\nParameter Group 0\n    amsgrad: False\n    betas: (0.9, 0.999)\n    eps: 1e-08\n    lr: 0.01\n    weight_decay: 0\n)"
     },
     "execution_count": 18,
     "metadata": {},
     "output_type": "execute_result"
    }
   ],
   "source": [
    "from torch import optim\n",
    "\n",
    "optimizer=optim.Adam(cnn.parameters(), lr=0.01)\n",
    "optimizer"
   ],
   "metadata": {
    "collapsed": false,
    "pycharm": {
     "name": "#%%\n"
    }
   }
  },
  {
   "cell_type": "code",
   "execution_count": 19,
   "outputs": [],
   "source": [
    "from torch.autograd import Variable\n",
    "num_epochs=10\n",
    "\n",
    "def train(num_epochs, cnn, loaders):\n",
    "    cnn.train()\n",
    "\n",
    "    #train the models\n",
    "    total_step=len(loaders['train'])\n",
    "\n",
    "    for epoch in range(num_epochs):\n",
    "        for i, (images, labels) in enumerate(loaders['train']):\n",
    "            b_x = Variable(images)\n",
    "            b_y = Variable(labels)\n",
    "            output = cnn(b_x)[0]\n",
    "            loss = loss_func(output, b_y)\n",
    "            optimizer.zero_grad()\n",
    "            loss.backward()\n",
    "            optimizer.step()\n",
    "\n",
    "            if (i+1) % 100 == 0:\n",
    "                print('Epoch [{}/{}],Step[{}/{}],Loss:{:.4f}'.format(epoch+1, num_epochs, i+1, total_step, loss.item()))\n",
    "                pass\n",
    "            pass\n",
    "        pass\n"
   ],
   "metadata": {
    "collapsed": false,
    "pycharm": {
     "name": "#%%\n"
    }
   }
  },
  {
   "cell_type": "code",
   "execution_count": 20,
   "outputs": [
    {
     "name": "stdout",
     "output_type": "stream",
     "text": [
      "Epoch [1/10],Step[100/600],Loss:0.2781\n",
      "Epoch [1/10],Step[200/600],Loss:0.1403\n",
      "Epoch [1/10],Step[300/600],Loss:0.2220\n",
      "Epoch [1/10],Step[400/600],Loss:0.1225\n",
      "Epoch [1/10],Step[500/600],Loss:0.0115\n",
      "Epoch [1/10],Step[600/600],Loss:0.0196\n",
      "Epoch [2/10],Step[100/600],Loss:0.0728\n",
      "Epoch [2/10],Step[200/600],Loss:0.0263\n",
      "Epoch [2/10],Step[300/600],Loss:0.0648\n",
      "Epoch [2/10],Step[400/600],Loss:0.0826\n",
      "Epoch [2/10],Step[500/600],Loss:0.1218\n",
      "Epoch [2/10],Step[600/600],Loss:0.0235\n",
      "Epoch [3/10],Step[100/600],Loss:0.0049\n",
      "Epoch [3/10],Step[200/600],Loss:0.0499\n",
      "Epoch [3/10],Step[300/600],Loss:0.0210\n",
      "Epoch [3/10],Step[400/600],Loss:0.0148\n",
      "Epoch [3/10],Step[500/600],Loss:0.0038\n",
      "Epoch [3/10],Step[600/600],Loss:0.0430\n",
      "Epoch [4/10],Step[100/600],Loss:0.0549\n",
      "Epoch [4/10],Step[200/600],Loss:0.0325\n",
      "Epoch [4/10],Step[300/600],Loss:0.0821\n",
      "Epoch [4/10],Step[400/600],Loss:0.0487\n",
      "Epoch [4/10],Step[500/600],Loss:0.0356\n",
      "Epoch [4/10],Step[600/600],Loss:0.0493\n",
      "Epoch [5/10],Step[100/600],Loss:0.0098\n",
      "Epoch [5/10],Step[200/600],Loss:0.0692\n",
      "Epoch [5/10],Step[300/600],Loss:0.0685\n",
      "Epoch [5/10],Step[400/600],Loss:0.0846\n",
      "Epoch [5/10],Step[500/600],Loss:0.0542\n",
      "Epoch [5/10],Step[600/600],Loss:0.0086\n",
      "Epoch [6/10],Step[100/600],Loss:0.0468\n",
      "Epoch [6/10],Step[200/600],Loss:0.0358\n",
      "Epoch [6/10],Step[300/600],Loss:0.0469\n",
      "Epoch [6/10],Step[400/600],Loss:0.0597\n",
      "Epoch [6/10],Step[500/600],Loss:0.0328\n",
      "Epoch [6/10],Step[600/600],Loss:0.0726\n",
      "Epoch [7/10],Step[100/600],Loss:0.0394\n",
      "Epoch [7/10],Step[200/600],Loss:0.0121\n",
      "Epoch [7/10],Step[300/600],Loss:0.0281\n",
      "Epoch [7/10],Step[400/600],Loss:0.0181\n",
      "Epoch [7/10],Step[500/600],Loss:0.0412\n",
      "Epoch [7/10],Step[600/600],Loss:0.0311\n",
      "Epoch [8/10],Step[100/600],Loss:0.0069\n",
      "Epoch [8/10],Step[200/600],Loss:0.0078\n",
      "Epoch [8/10],Step[300/600],Loss:0.0920\n",
      "Epoch [8/10],Step[400/600],Loss:0.1692\n",
      "Epoch [8/10],Step[500/600],Loss:0.0432\n",
      "Epoch [8/10],Step[600/600],Loss:0.0381\n",
      "Epoch [9/10],Step[100/600],Loss:0.0292\n",
      "Epoch [9/10],Step[200/600],Loss:0.0358\n",
      "Epoch [9/10],Step[300/600],Loss:0.1132\n",
      "Epoch [9/10],Step[400/600],Loss:0.0616\n",
      "Epoch [9/10],Step[500/600],Loss:0.0586\n",
      "Epoch [9/10],Step[600/600],Loss:0.0346\n",
      "Epoch [10/10],Step[100/600],Loss:0.0110\n",
      "Epoch [10/10],Step[200/600],Loss:0.0237\n",
      "Epoch [10/10],Step[300/600],Loss:0.1076\n",
      "Epoch [10/10],Step[400/600],Loss:0.0881\n",
      "Epoch [10/10],Step[500/600],Loss:0.0853\n",
      "Epoch [10/10],Step[600/600],Loss:0.0192\n"
     ]
    }
   ],
   "source": [
    "train(num_epochs, cnn, loaders)"
   ],
   "metadata": {
    "collapsed": false,
    "pycharm": {
     "name": "#%%\n"
    }
   }
  },
  {
   "cell_type": "code",
   "execution_count": 26,
   "outputs": [],
   "source": [
    "def test():\n",
    "    cnn.eval()\n",
    "    with torch.no_grad():\n",
    "        correct=0\n",
    "        total=0\n",
    "        for images,labels in loaders['test']:\n",
    "            test_output, last_layer=cnn(images)\n",
    "            pred_y=torch.max(test_output,1)[1].data.squeeze()\n",
    "            accuracy=(pred_y==labels).sum().item()/ float(labels.size(0))\n",
    "            pass\n",
    "        print('Test Accuracy: ' + str(accuracy))"
   ],
   "metadata": {
    "collapsed": false,
    "pycharm": {
     "name": "#%%\n"
    }
   }
  },
  {
   "cell_type": "code",
   "execution_count": 27,
   "outputs": [
    {
     "name": "stdout",
     "output_type": "stream",
     "text": [
      "Test Accuracy: 0.97\n"
     ]
    }
   ],
   "source": [
    "test()\n"
   ],
   "metadata": {
    "collapsed": false,
    "pycharm": {
     "name": "#%%\n"
    }
   }
  }
 ],
 "metadata": {
  "kernelspec": {
   "display_name": "Python 3",
   "language": "python",
   "name": "python3"
  },
  "language_info": {
   "codemirror_mode": {
    "name": "ipython",
    "version": 3
   },
   "file_extension": ".py",
   "mimetype": "text/x-python",
   "name": "python",
   "nbconvert_exporter": "python",
   "pygments_lexer": "ipython3",
   "version": "3.8.12"
  }
 },
 "nbformat": 4,
 "nbformat_minor": 4
}